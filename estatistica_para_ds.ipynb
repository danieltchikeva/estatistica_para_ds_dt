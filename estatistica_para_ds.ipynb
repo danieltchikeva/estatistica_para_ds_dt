{
  "nbformat": 4,
  "nbformat_minor": 0,
  "metadata": {
    "colab": {
      "provenance": [],
      "authorship_tag": "ABX9TyNsiQG5vNYJ045KbfqUP49U",
      "include_colab_link": true
    },
    "kernelspec": {
      "name": "python3",
      "display_name": "Python 3"
    },
    "language_info": {
      "name": "python"
    }
  },
  "cells": [
    {
      "cell_type": "markdown",
      "metadata": {
        "id": "view-in-github",
        "colab_type": "text"
      },
      "source": [
        "<a href=\"https://colab.research.google.com/github/danieltchikeva/estatistica_para_ds_dt/blob/main/estatistica_para_ds.ipynb\" target=\"_parent\"><img src=\"https://colab.research.google.com/assets/colab-badge.svg\" alt=\"Open In Colab\"/></a>"
      ]
    },
    {
      "cell_type": "markdown",
      "source": [
        "# Medidas de Centralidade e Variablidade"
      ],
      "metadata": {
        "id": "o7YNOEWM-C3h"
      }
    },
    {
      "cell_type": "code",
      "execution_count": null,
      "metadata": {
        "id": "KKgmwaYIVdHz"
      },
      "outputs": [],
      "source": [
        "import numpy as np\n",
        "from scipy import stats\n"
      ]
    },
    {
      "cell_type": "markdown",
      "source": [
        "jogadores = [40000, 18000, 12000, 250000, 30000, 140000, 40000, 800000]\n",
        "\n",
        "np.median(jogadores)"
      ],
      "metadata": {
        "id": "Y6K5W7N_-QTq"
      }
    },
    {
      "cell_type": "code",
      "source": [
        "jogadores = [40000, 18000, 12000, 250000, 30000, 140000, 40000, 800000]"
      ],
      "metadata": {
        "id": "w8CxjK1qCQFp"
      },
      "execution_count": null,
      "outputs": []
    },
    {
      "cell_type": "code",
      "source": [
        "#achar a média\n",
        "np.mean(jogadores)"
      ],
      "metadata": {
        "colab": {
          "base_uri": "https://localhost:8080/"
        },
        "id": "tO1y_b7bCXYv",
        "outputId": "644eef42-ce24-4118-f2ed-48821ac3275b"
      },
      "execution_count": null,
      "outputs": [
        {
          "output_type": "execute_result",
          "data": {
            "text/plain": [
              "166250.0"
            ]
          },
          "metadata": {},
          "execution_count": 7
        }
      ]
    },
    {
      "cell_type": "code",
      "source": [
        "#achar a mediana\n",
        "np.median(jogadores)"
      ],
      "metadata": {
        "colab": {
          "base_uri": "https://localhost:8080/"
        },
        "id": "lM6x1VseCmjo",
        "outputId": "00f9d3ec-aec5-4467-82f5-2afce3601aab"
      },
      "execution_count": null,
      "outputs": [
        {
          "output_type": "execute_result",
          "data": {
            "text/plain": [
              "40000.0"
            ]
          },
          "metadata": {},
          "execution_count": 8
        }
      ]
    },
    {
      "cell_type": "code",
      "source": [
        "#visualisar os Quartis\n",
        "quartis = np.quantile(jogadores, [0, 0.25, 0.5, 0.75, 1])\n",
        "quartis"
      ],
      "metadata": {
        "colab": {
          "base_uri": "https://localhost:8080/"
        },
        "id": "EiXmUm-lC9sh",
        "outputId": "a6a9bd36-a84c-4fbe-f77b-6b2fd654e758"
      },
      "execution_count": null,
      "outputs": [
        {
          "output_type": "execute_result",
          "data": {
            "text/plain": [
              "array([ 12000.,  27000.,  40000., 167500., 800000.])"
            ]
          },
          "metadata": {},
          "execution_count": 10
        }
      ]
    },
    {
      "cell_type": "code",
      "source": [
        "#calcular o desvio padrão\n",
        "np.std(jogadores, ddof= 1)"
      ],
      "metadata": {
        "colab": {
          "base_uri": "https://localhost:8080/"
        },
        "id": "pBFF0sHaDzv4",
        "outputId": "c81347dd-cfe7-4dec-90d1-d51be2c7f03a"
      },
      "execution_count": null,
      "outputs": [
        {
          "output_type": "execute_result",
          "data": {
            "text/plain": [
              "268741.91017724475"
            ]
          },
          "metadata": {},
          "execution_count": 11
        }
      ]
    },
    {
      "cell_type": "code",
      "source": [
        "#para visualisar os meus dados\n",
        "stats.describe(jogadores)"
      ],
      "metadata": {
        "colab": {
          "base_uri": "https://localhost:8080/"
        },
        "id": "sIvccOBuEdjz",
        "outputId": "f0c399b5-8e84-4dcf-d343-411fd2204166"
      },
      "execution_count": null,
      "outputs": [
        {
          "output_type": "execute_result",
          "data": {
            "text/plain": [
              "DescribeResult(nobs=8, minmax=(12000, 800000), mean=166250.0, variance=72222214285.71428, skewness=1.9012316763609955, kurtosis=2.110303476801681)"
            ]
          },
          "metadata": {},
          "execution_count": 16
        }
      ]
    },
    {
      "cell_type": "markdown",
      "source": [
        "# DISTRIBUIÇÃO BINOMIAL"
      ],
      "metadata": {
        "id": "WmF5H_Y6HKpl"
      }
    },
    {
      "cell_type": "code",
      "source": [
        "from scipy.stats import binom"
      ],
      "metadata": {
        "id": "dn1RztpQHS8j"
      },
      "execution_count": null,
      "outputs": []
    },
    {
      "cell_type": "code",
      "source": [
        "#se eu jogar uma moeda 5 vezes(nº de tentativas), qual é a probabilidade de dar cara 3 vezes(nº de sucessos)?\n",
        "prob = binom.pmf(3, 5, 0.5)\n",
        "prob"
      ],
      "metadata": {
        "colab": {
          "base_uri": "https://localhost:8080/"
        },
        "id": "st0nvh6SHtvS",
        "outputId": "3325092d-240b-4761-9c17-cb4c069b04dd"
      },
      "execution_count": null,
      "outputs": [
        {
          "output_type": "execute_result",
          "data": {
            "text/plain": [
              "0.31249999999999983"
            ]
          },
          "metadata": {},
          "execution_count": 2
        }
      ]
    },
    {
      "cell_type": "code",
      "source": [
        "# Se eu passar por 4 sinais de tempos (nº de tentativas), qual a probabilidade de pegar sinal verde? (com 4 nós temos 0.25, equivalente a 25%)\n",
        "# Nenhuma, 1, 2, 3 ou 4 vezes seguidos (nº de sucessos)?\n",
        "\n",
        "#binom.pmf(0, 4, 0.25)\n",
        "#binom.pmf(1, 4, 0.25)\n",
        "#binom.pmf(2, 4, 0.25)\n",
        "#binom.pmf(3, 4, 0.25)\n",
        "binom.pmf(4, 4, 0.25)"
      ],
      "metadata": {
        "colab": {
          "base_uri": "https://localhost:8080/"
        },
        "id": "dK_WKiueJjaU",
        "outputId": "2bf6da1e-5604-4037-bff2-6590df1d86c6"
      },
      "execution_count": null,
      "outputs": [
        {
          "output_type": "execute_result",
          "data": {
            "text/plain": [
              "0.00390625"
            ]
          },
          "metadata": {},
          "execution_count": 8
        }
      ]
    },
    {
      "cell_type": "code",
      "source": [
        "# E se forem sinais de 2 tempos? dist. é 0.5 equivalente a 50%\n",
        "binom.pmf(4, 4, 0.5)"
      ],
      "metadata": {
        "colab": {
          "base_uri": "https://localhost:8080/"
        },
        "id": "V5jVDYfuMOQA",
        "outputId": "b4d1b45e-3ac4-4cdd-91c2-59b01157d18c"
      },
      "execution_count": null,
      "outputs": [
        {
          "output_type": "execute_result",
          "data": {
            "text/plain": [
              "0.0625"
            ]
          },
          "metadata": {},
          "execution_count": 9
        }
      ]
    },
    {
      "cell_type": "code",
      "source": [
        "# Probabilidade acumulativa\n",
        "binom.cdf(4, 4, 0.25)"
      ],
      "metadata": {
        "colab": {
          "base_uri": "https://localhost:8080/"
        },
        "id": "PGhm1mg9NEYb",
        "outputId": "ea4aa7e6-b646-45d4-94d7-ce47fc0dcc44"
      },
      "execution_count": null,
      "outputs": [
        {
          "output_type": "execute_result",
          "data": {
            "text/plain": [
              "1.0"
            ]
          },
          "metadata": {},
          "execution_count": 10
        }
      ]
    },
    {
      "cell_type": "code",
      "source": [
        "# Concurso com 12 questões, qual a probabilidade de acertar 7 questões considerando que cada questão tem 4 alternativas(0.25)?\n",
        "binom.pmf(7, 12, 0.25) * 100"
      ],
      "metadata": {
        "colab": {
          "base_uri": "https://localhost:8080/"
        },
        "id": "ARR8_RaBN8pX",
        "outputId": "9264f720-f7e6-41ef-eb9f-c1747bc29c3c"
      },
      "execution_count": null,
      "outputs": [
        {
          "output_type": "execute_result",
          "data": {
            "text/plain": [
              "1.1471271514892587"
            ]
          },
          "metadata": {},
          "execution_count": 11
        }
      ]
    },
    {
      "cell_type": "code",
      "source": [
        "# E para acertar todas as questões?\n",
        "binom.pmf(12, 12, 0.25) * 100"
      ],
      "metadata": {
        "colab": {
          "base_uri": "https://localhost:8080/"
        },
        "id": "l8u1MJVVPF_L",
        "outputId": "8e7b472b-4208-44b2-b92c-16811162960b"
      },
      "execution_count": null,
      "outputs": [
        {
          "output_type": "execute_result",
          "data": {
            "text/plain": [
              "5.9604644775390625e-06"
            ]
          },
          "metadata": {},
          "execution_count": 12
        }
      ]
    },
    {
      "cell_type": "markdown",
      "source": [
        "# DISTRIBUIÇÃO NORMAL"
      ],
      "metadata": {
        "id": "1zeuBhaxPinr"
      }
    },
    {
      "cell_type": "code",
      "source": [
        "from scipy.stats import norm"
      ],
      "metadata": {
        "id": "Ri4Rebj2P5PC"
      },
      "execution_count": null,
      "outputs": []
    },
    {
      "cell_type": "code",
      "source": [
        "#Conjunto de objetos em uma cesta, a média é 8 e o desvio padrão é 2.\n",
        "#Qual a probabilidade de tirar um objeto cujo o peso é menor que 6kg?\n",
        "\n",
        "norm.cdf(6, 8, 2)"
      ],
      "metadata": {
        "colab": {
          "base_uri": "https://localhost:8080/"
        },
        "id": "Ksmn2jTPIj_1",
        "outputId": "c0acc83c-b10f-4741-f993-c76e15d9e434"
      },
      "execution_count": null,
      "outputs": [
        {
          "output_type": "execute_result",
          "data": {
            "text/plain": [
              "0.15865525393145707"
            ]
          },
          "metadata": {},
          "execution_count": 2
        }
      ]
    },
    {
      "cell_type": "code",
      "source": [
        "#Qual a probabilidade de tirar um objeto cujo o peso é maior que 6kg?\n",
        "\n",
        "norm.sf(6, 8, 2) #1ª opção\n",
        "1 - norm.cdf(6, 8, 2) #2ª opção"
      ],
      "metadata": {
        "colab": {
          "base_uri": "https://localhost:8080/"
        },
        "id": "ATpoMh_SJaJB",
        "outputId": "e410e14c-1c18-4916-a1ed-4d5c26e74849"
      },
      "execution_count": null,
      "outputs": [
        {
          "output_type": "execute_result",
          "data": {
            "text/plain": [
              "0.8413447460685429"
            ]
          },
          "metadata": {},
          "execution_count": 5
        }
      ]
    },
    {
      "cell_type": "code",
      "source": [
        "# Qual a probabilidade de tirar um objeto que o peso é menor que 6 ou maior que 10kg?\n",
        "\n",
        "norm.cdf(6, 8, 2) + norm.sf(10, 8, 2)"
      ],
      "metadata": {
        "colab": {
          "base_uri": "https://localhost:8080/"
        },
        "id": "IWSC7B5qKmmU",
        "outputId": "7909ae91-b31b-4d5d-d6e3-d4294416eeba"
      },
      "execution_count": null,
      "outputs": [
        {
          "output_type": "execute_result",
          "data": {
            "text/plain": [
              "0.31731050786291415"
            ]
          },
          "metadata": {},
          "execution_count": 6
        }
      ]
    },
    {
      "cell_type": "code",
      "source": [
        "# Qual a probabilidade de tirar um objeto que o peso é menor que 10 e maior que 8kg?\n",
        "\n",
        "norm.cdf(10, 8, 2) - norm.cdf(8, 8, 2)"
      ],
      "metadata": {
        "colab": {
          "base_uri": "https://localhost:8080/"
        },
        "id": "089FcuF_Lzcz",
        "outputId": "40a0e495-6634-4328-9272-399396445c48"
      },
      "execution_count": null,
      "outputs": [
        {
          "output_type": "execute_result",
          "data": {
            "text/plain": [
              "0.3413447460685429"
            ]
          },
          "metadata": {},
          "execution_count": 7
        }
      ]
    },
    {
      "cell_type": "markdown",
      "source": [
        "# Teste se a distribuição é ou não é normal"
      ],
      "metadata": {
        "id": "4eaYTlkkMbfu"
      }
    },
    {
      "cell_type": "code",
      "source": [
        "from scipy import stats\n",
        "from scipy.stats import norm\n",
        "import matplotlib.pyplot as plt\n"
      ],
      "metadata": {
        "id": "SiuLZhRJMlwb"
      },
      "execution_count": null,
      "outputs": []
    },
    {
      "cell_type": "code",
      "source": [
        "dados = norm.rvs(size = 100)\n",
        "dados"
      ],
      "metadata": {
        "colab": {
          "base_uri": "https://localhost:8080/"
        },
        "id": "If3bQojTNVXZ",
        "outputId": "74db266d-9b03-40f9-9a74-299dada734e9"
      },
      "execution_count": null,
      "outputs": [
        {
          "output_type": "execute_result",
          "data": {
            "text/plain": [
              "array([-1.33423695e+00, -6.29830171e-01, -4.69535689e-01, -3.17854617e-01,\n",
              "       -1.28799567e+00, -2.08054693e+00,  6.94601543e-01, -2.05854253e-01,\n",
              "        2.60631705e-01,  2.47362351e-02, -5.53947868e-01, -5.89367116e-01,\n",
              "        4.88359797e-01, -6.10928738e-01,  8.64102621e-01, -1.71782016e+00,\n",
              "       -1.20518590e+00, -6.61793089e-01,  3.70915690e-01, -1.78871579e+00,\n",
              "       -1.06625204e+00,  8.30607116e-01, -5.56346002e-01, -9.07538473e-02,\n",
              "        1.94654242e-01, -1.59183025e+00, -2.70174802e+00,  4.30650590e-01,\n",
              "       -1.89740436e+00,  4.83164059e-01, -2.56616697e-01,  2.09437855e-01,\n",
              "       -6.19916274e-03, -3.59506860e-01,  7.89990587e-01,  1.16316959e-01,\n",
              "       -1.94692025e+00, -9.36904274e-02,  1.95927510e-01, -5.53952390e-01,\n",
              "        7.57000592e-01,  5.24994256e-01,  1.57122007e-03,  9.60474079e-02,\n",
              "        1.75569523e+00,  7.35014199e-02, -1.15757758e+00,  1.38152437e-01,\n",
              "        1.54061819e+00,  2.63948790e+00, -2.27768564e-02, -1.01405109e+00,\n",
              "        2.22270948e-01,  2.17755607e+00,  4.74314506e-01, -5.23991544e-01,\n",
              "        9.43105158e-01, -2.87750145e-01,  2.72349991e-01, -1.30301295e+00,\n",
              "        4.24381773e-01, -1.37771852e+00,  6.01028004e-01, -5.40784161e-01,\n",
              "       -1.25618177e+00,  2.18044154e-01,  5.49064210e-01,  3.71933907e-01,\n",
              "       -1.07421462e+00, -3.03700773e-02,  1.08437956e+00,  1.38856739e-01,\n",
              "       -1.07024076e+00, -5.48679966e-02,  1.70520891e+00,  6.78003803e-01,\n",
              "       -7.44137577e-01, -1.73980865e+00,  1.42045637e+00,  1.07418490e+00,\n",
              "        1.49682865e+00, -8.64149772e-01,  4.80130251e-01, -4.13264143e-01,\n",
              "       -3.55537458e-01,  1.12013982e-01,  1.91087240e+00,  2.76659550e-01,\n",
              "        6.51016075e-01,  1.57551770e-01,  2.61154867e+00,  1.35127383e+00,\n",
              "       -1.52254907e+00,  1.07236925e+00, -4.53284828e-01,  9.40655295e-01,\n",
              "       -2.26183340e-01,  4.26257697e-01,  6.17052502e-01,  7.12409240e-01])"
            ]
          },
          "metadata": {},
          "execution_count": 10
        }
      ]
    },
    {
      "cell_type": "code",
      "source": [
        "stats.probplot(dados, plot= plt)"
      ],
      "metadata": {
        "colab": {
          "base_uri": "https://localhost:8080/",
          "height": 1000
        },
        "id": "ny_5Jz8dNpm6",
        "outputId": "d6a41926-4f12-43a7-d9df-e2f6356cea65"
      },
      "execution_count": null,
      "outputs": [
        {
          "output_type": "execute_result",
          "data": {
            "text/plain": [
              "((array([-2.46203784, -2.12570747, -1.93122778, -1.79044653, -1.67819304,\n",
              "         -1.58381122, -1.50174123, -1.42869743, -1.36256869, -1.30191411,\n",
              "         -1.24570419, -1.19317644, -1.14374949, -1.09696931, -1.05247413,\n",
              "         -1.00997067, -0.96921765, -0.93001393, -0.89218993, -0.85560121,\n",
              "         -0.82012357, -0.78564937, -0.75208458, -0.71934648, -0.68736185,\n",
              "         -0.65606548, -0.62539893, -0.59530962, -0.56574992, -0.53667655,\n",
              "         -0.50804994, -0.47983378, -0.45199463, -0.42450149, -0.39732558,\n",
              "         -0.37044003, -0.34381966, -0.31744076, -0.29128096, -0.26531902,\n",
              "         -0.23953472, -0.21390872, -0.18842244, -0.16305799, -0.13779803,\n",
              "         -0.1126257 , -0.08752455, -0.06247843, -0.03747145, -0.01248789,\n",
              "          0.01248789,  0.03747145,  0.06247843,  0.08752455,  0.1126257 ,\n",
              "          0.13779803,  0.16305799,  0.18842244,  0.21390872,  0.23953472,\n",
              "          0.26531902,  0.29128096,  0.31744076,  0.34381966,  0.37044003,\n",
              "          0.39732558,  0.42450149,  0.45199463,  0.47983378,  0.50804994,\n",
              "          0.53667655,  0.56574992,  0.59530962,  0.62539893,  0.65606548,\n",
              "          0.68736185,  0.71934648,  0.75208458,  0.78564937,  0.82012357,\n",
              "          0.85560121,  0.89218993,  0.93001393,  0.96921765,  1.00997067,\n",
              "          1.05247413,  1.09696931,  1.14374949,  1.19317644,  1.24570419,\n",
              "          1.30191411,  1.36256869,  1.42869743,  1.50174123,  1.58381122,\n",
              "          1.67819304,  1.79044653,  1.93122778,  2.12570747,  2.46203784]),\n",
              "  array([-2.70174802e+00, -2.08054693e+00, -1.94692025e+00, -1.89740436e+00,\n",
              "         -1.78871579e+00, -1.73980865e+00, -1.71782016e+00, -1.59183025e+00,\n",
              "         -1.52254907e+00, -1.37771852e+00, -1.33423695e+00, -1.30301295e+00,\n",
              "         -1.28799567e+00, -1.25618177e+00, -1.20518590e+00, -1.15757758e+00,\n",
              "         -1.07421462e+00, -1.07024076e+00, -1.06625204e+00, -1.01405109e+00,\n",
              "         -8.64149772e-01, -7.44137577e-01, -6.61793089e-01, -6.29830171e-01,\n",
              "         -6.10928738e-01, -5.89367116e-01, -5.56346002e-01, -5.53952390e-01,\n",
              "         -5.53947868e-01, -5.40784161e-01, -5.23991544e-01, -4.69535689e-01,\n",
              "         -4.53284828e-01, -4.13264143e-01, -3.59506860e-01, -3.55537458e-01,\n",
              "         -3.17854617e-01, -2.87750145e-01, -2.56616697e-01, -2.26183340e-01,\n",
              "         -2.05854253e-01, -9.36904274e-02, -9.07538473e-02, -5.48679966e-02,\n",
              "         -3.03700773e-02, -2.27768564e-02, -6.19916274e-03,  1.57122007e-03,\n",
              "          2.47362351e-02,  7.35014199e-02,  9.60474079e-02,  1.12013982e-01,\n",
              "          1.16316959e-01,  1.38152437e-01,  1.38856739e-01,  1.57551770e-01,\n",
              "          1.94654242e-01,  1.95927510e-01,  2.09437855e-01,  2.18044154e-01,\n",
              "          2.22270948e-01,  2.60631705e-01,  2.72349991e-01,  2.76659550e-01,\n",
              "          3.70915690e-01,  3.71933907e-01,  4.24381773e-01,  4.26257697e-01,\n",
              "          4.30650590e-01,  4.74314506e-01,  4.80130251e-01,  4.83164059e-01,\n",
              "          4.88359797e-01,  5.24994256e-01,  5.49064210e-01,  6.01028004e-01,\n",
              "          6.17052502e-01,  6.51016075e-01,  6.78003803e-01,  6.94601543e-01,\n",
              "          7.12409240e-01,  7.57000592e-01,  7.89990587e-01,  8.30607116e-01,\n",
              "          8.64102621e-01,  9.40655295e-01,  9.43105158e-01,  1.07236925e+00,\n",
              "          1.07418490e+00,  1.08437956e+00,  1.35127383e+00,  1.42045637e+00,\n",
              "          1.49682865e+00,  1.54061819e+00,  1.70520891e+00,  1.75569523e+00,\n",
              "          1.91087240e+00,  2.17755607e+00,  2.61154867e+00,  2.63948790e+00])),\n",
              " (1.037623320301704, -0.019543428282853107, 0.9949792772349869))"
            ]
          },
          "metadata": {},
          "execution_count": 11
        },
        {
          "output_type": "display_data",
          "data": {
            "text/plain": [
              "<Figure size 640x480 with 1 Axes>"
            ],
            "image/png": "[encoded data removed]"
          },
          "metadata": {}
        }
      ]
    },
    {
      "cell_type": "code",
      "source": [
        "stats.shapiro(dados)"
      ],
      "metadata": {
        "colab": {
          "base_uri": "https://localhost:8080/"
        },
        "id": "7DuJUZZpOMhk",
        "outputId": "144df05b-0ded-49dc-8d1f-ca75525c29af"
      },
      "execution_count": null,
      "outputs": [
        {
          "output_type": "execute_result",
          "data": {
            "text/plain": [
              "ShapiroResult(statistic=0.9903031587600708, pvalue=0.6891059875488281)"
            ]
          },
          "metadata": {},
          "execution_count": 12
        }
      ]
    },
    {
      "cell_type": "markdown",
      "source": [
        "# Distribuição T de Student"
      ],
      "metadata": {
        "id": "NtUdB4KFtYtS"
      }
    },
    {
      "cell_type": "code",
      "source": [
        "from scipy.stats import t"
      ],
      "metadata": {
        "id": "paq7Y-1ztei2"
      },
      "execution_count": null,
      "outputs": []
    },
    {
      "cell_type": "code",
      "source": [
        "# A média de salário dos cientistas de dados = R$ 75,00 por hora, uma amostra com 9 funcionários e o desvio padrão= 10\n",
        "# Qual a probabilidade de selecionar um cientista de dados e o salário ser menor que R$ 80 por hora; 1,5 é o valor achado na tabela\n",
        "\n",
        "t.cdf(1.5, 8)"
      ],
      "metadata": {
        "colab": {
          "base_uri": "https://localhost:8080/"
        },
        "id": "pCK8ahcLtnK_",
        "outputId": "c9a8e398-49d3-40f3-cb2f-e388e6fe29ad"
      },
      "execution_count": null,
      "outputs": [
        {
          "output_type": "execute_result",
          "data": {
            "text/plain": [
              "0.9139983540240443"
            ]
          },
          "metadata": {},
          "execution_count": 2
        }
      ]
    },
    {
      "cell_type": "code",
      "source": [
        "# Qual a probabilidade do salário ser maior do que R$80?\n",
        "\n",
        "t.sf(1.5, 8) * 100"
      ],
      "metadata": {
        "colab": {
          "base_uri": "https://localhost:8080/"
        },
        "id": "CsVhNob-udlK",
        "outputId": "8c1b64a0-c248-4afc-d2ce-a0aa9e1f542b"
      },
      "execution_count": null,
      "outputs": [
        {
          "output_type": "execute_result",
          "data": {
            "text/plain": [
              "8.600164597595565"
            ]
          },
          "metadata": {},
          "execution_count": 4
        }
      ]
    },
    {
      "cell_type": "code",
      "source": [
        "#Ou pegando o lado esquerdo e o lado direito da distribuição\n",
        "t.cdf(1.5, 8) + t.sf(1.5, 8)"
      ],
      "metadata": {
        "colab": {
          "base_uri": "https://localhost:8080/"
        },
        "id": "yhlqZQf4vAF8",
        "outputId": "9aa25f7a-cbe3-4152-a036-a106a2c2eddb"
      },
      "execution_count": null,
      "outputs": [
        {
          "output_type": "execute_result",
          "data": {
            "text/plain": [
              "0.9999999999999999"
            ]
          },
          "metadata": {},
          "execution_count": 5
        }
      ]
    },
    {
      "cell_type": "code",
      "source": [
        "#Ou\n",
        "1 - t.cdf(1.5, 8)"
      ],
      "metadata": {
        "colab": {
          "base_uri": "https://localhost:8080/"
        },
        "id": "XBLiiFiFvPYg",
        "outputId": "b0daaca0-85c5-445e-8247-1aaf9d218a21"
      },
      "execution_count": null,
      "outputs": [
        {
          "output_type": "execute_result",
          "data": {
            "text/plain": [
              "0.08600164597595572"
            ]
          },
          "metadata": {},
          "execution_count": 6
        }
      ]
    },
    {
      "cell_type": "markdown",
      "source": [
        "# Regressão Linear Simples"
      ],
      "metadata": {
        "id": "qr6EmGSQ7m_j"
      }
    },
    {
      "cell_type": "code",
      "source": [
        "import pandas as pd\n",
        "import numpy as np\n",
        "import matplotlib.pyplot as plt\n",
        "from sklearn.linear_model import LinearRegression"
      ],
      "metadata": {
        "id": "lq8c-prd7wWG"
      },
      "execution_count": null,
      "outputs": []
    },
    {
      "cell_type": "code",
      "source": [
        "base = pd.read_csv('cars.csv')\n",
        "base"
      ],
      "metadata": {
        "colab": {
          "base_uri": "https://localhost:8080/",
          "height": 424
        },
        "id": "YAxG6lRC8W5f",
        "outputId": "835ff66c-336f-42ef-ec3a-ad49fc6087db"
      },
      "execution_count": null,
      "outputs": [
        {
          "output_type": "execute_result",
          "data": {
            "text/plain": [
              "     age  gender  miles   debt  income  sales\n",
              "0     28       0     23      0    4099    620\n",
              "1     26       0     27      0    2677   1792\n",
              "2     30       1     58  41576    6215  27754\n",
              "3     26       1     25  43172    7626  28256\n",
              "4     20       1     17   6979    8071   4438\n",
              "..   ...     ...    ...    ...     ...    ...\n",
              "958   22       0     11   8778    9829   1593\n",
              "959   19       1     23   4850    3470   4742\n",
              "960   28       1     28   9312    2720  12771\n",
              "961   50       0     29  51343    8713  28511\n",
              "962   47       1     15   3735    6406   6104\n",
              "\n",
              "[963 rows x 6 columns]"
            ],
            "text/html": [
              "\n",
              "  <div id=\"df-91981be0-f5cd-4245-a49c-aba5b1ede4d1\" class=\"colab-df-container\">\n",
              "    <div>\n",
              "<style scoped>\n",
              "    .dataframe tbody tr th:only-of-type {\n",
              "        vertical-align: middle;\n",
              "    }\n",
              "\n",
              "    .dataframe tbody tr th {\n",
              "        vertical-align: top;\n",
              "    }\n",
              "\n",
              "    .dataframe thead th {\n",
              "        text-align: right;\n",
              "    }\n",
              "</style>\n",
              "<table border=\"1\" class=\"dataframe\">\n",
              "  <thead>\n",
              "    <tr style=\"text-align: right;\">\n",
              "      <th></th>\n",
              "      <th>age</th>\n",
              "      <th>gender</th>\n",
              "      <th>miles</th>\n",
              "      <th>debt</th>\n",
              "      <th>income</th>\n",
              "      <th>sales</th>\n",
              "    </tr>\n",
              "  </thead>\n",
              "  <tbody>\n",
              "    <tr>\n",
              "      <th>0</th>\n",
              "      <td>28</td>\n",
              "      <td>0</td>\n",
              "      <td>23</td>\n",
              "      <td>0</td>\n",
              "      <td>4099</td>\n",
              "      <td>620</td>\n",
              "    </tr>\n",
              "    <tr>\n",
              "      <th>1</th>\n",
              "      <td>26</td>\n",
              "      <td>0</td>\n",
              "      <td>27</td>\n",
              "      <td>0</td>\n",
              "      <td>2677</td>\n",
              "      <td>1792</td>\n",
              "    </tr>\n",
              "    <tr>\n",
              "      <th>2</th>\n",
              "      <td>30</td>\n",
              "      <td>1</td>\n",
              "      <td>58</td>\n",
              "      <td>41576</td>\n",
              "      <td>6215</td>\n",
              "      <td>27754</td>\n",
              "    </tr>\n",
              "    <tr>\n",
              "      <th>3</th>\n",
              "      <td>26</td>\n",
              "      <td>1</td>\n",
              "      <td>25</td>\n",
              "      <td>43172</td>\n",
              "      <td>7626</td>\n",
              "      <td>28256</td>\n",
              "    </tr>\n",
              "    <tr>\n",
              "      <th>4</th>\n",
              "      <td>20</td>\n",
              "      <td>1</td>\n",
              "      <td>17</td>\n",
              "      <td>6979</td>\n",
              "      <td>8071</td>\n",
              "      <td>4438</td>\n",
              "    </tr>\n",
              "    <tr>\n",
              "      <th>...</th>\n",
              "      <td>...</td>\n",
              "      <td>...</td>\n",
              "      <td>...</td>\n",
              "      <td>...</td>\n",
              "      <td>...</td>\n",
              "      <td>...</td>\n",
              "    </tr>\n",
              "    <tr>\n",
              "      <th>958</th>\n",
              "      <td>22</td>\n",
              "      <td>0</td>\n",
              "      <td>11</td>\n",
              "      <td>8778</td>\n",
              "      <td>9829</td>\n",
              "      <td>1593</td>\n",
              "    </tr>\n",
              "    <tr>\n",
              "      <th>959</th>\n",
              "      <td>19</td>\n",
              "      <td>1</td>\n",
              "      <td>23</td>\n",
              "      <td>4850</td>\n",
              "      <td>3470</td>\n",
              "      <td>4742</td>\n",
              "    </tr>\n",
              "    <tr>\n",
              "      <th>960</th>\n",
              "      <td>28</td>\n",
              "      <td>1</td>\n",
              "      <td>28</td>\n",
              "      <td>9312</td>\n",
              "      <td>2720</td>\n",
              "      <td>12771</td>\n",
              "    </tr>\n",
              "    <tr>\n",
              "      <th>961</th>\n",
              "      <td>50</td>\n",
              "      <td>0</td>\n",
              "      <td>29</td>\n",
              "      <td>51343</td>\n",
              "      <td>8713</td>\n",
              "      <td>28511</td>\n",
              "    </tr>\n",
              "    <tr>\n",
              "      <th>962</th>\n",
              "      <td>47</td>\n",
              "      <td>1</td>\n",
              "      <td>15</td>\n",
              "      <td>3735</td>\n",
              "      <td>6406</td>\n",
              "      <td>6104</td>\n",
              "    </tr>\n",
              "  </tbody>\n",
              "</table>\n",
              "<p>963 rows × 6 columns</p>\n",
              "</div>\n",
              "    <div class=\"colab-df-buttons\">\n",
              "\n",
              "  <div class=\"colab-df-container\">\n",
              "    <button class=\"colab-df-convert\" onclick=\"convertToInteractive('df-91981be0-f5cd-4245-a49c-aba5b1ede4d1')\"\n",
              "            title=\"Convert this dataframe to an interactive table.\"\n",
              "            style=\"display:none;\">\n",
              "\n",
              "  <svg xmlns=\"http://www.w3.org/2000/svg\" height=\"24px\" viewBox=\"0 -960 960 960\">\n",
              "    <path d=\"M120-120v-720h720v720H120Zm60-500h600v-160H180v160Zm220 220h160v-160H400v160Zm0 220h160v-160H400v160ZM180-400h160v-160H180v160Zm440 0h160v-160H620v160ZM180-180h160v-160H180v160Zm440 0h160v-160H620v160Z\"/>\n",
              "  </svg>\n",
              "    </button>\n",
              "\n",
              "  <style>\n",
              "    .colab-df-container {\n",
              "      display:flex;\n",
              "      gap: 12px;\n",
              "    }\n",
              "\n",
              "    .colab-df-convert {\n",
              "      background-color: #E8F0FE;\n",
              "      border: none;\n",
              "      border-radius: 50%;\n",
              "      cursor: pointer;\n",
              "      display: none;\n",
              "      fill: #1967D2;\n",
              "      height: 32px;\n",
              "      padding: 0 0 0 0;\n",
              "      width: 32px;\n",
              "    }\n",
              "\n",
              "    .colab-df-convert:hover {\n",
              "      background-color: #E2EBFA;\n",
              "      box-shadow: 0px 1px 2px rgba(60, 64, 67, 0.3), 0px 1px 3px 1px rgba(60, 64, 67, 0.15);\n",
              "      fill: #174EA6;\n",
              "    }\n",
              "\n",
              "    .colab-df-buttons div {\n",
              "      margin-bottom: 4px;\n",
              "    }\n",
              "\n",
              "    [theme=dark] .colab-df-convert {\n",
              "      background-color: #3B4455;\n",
              "      fill: #D2E3FC;\n",
              "    }\n",
              "\n",
              "    [theme=dark] .colab-df-convert:hover {\n",
              "      background-color: #434B5C;\n",
              "      box-shadow: 0px 1px 3px 1px rgba(0, 0, 0, 0.15);\n",
              "      filter: drop-shadow(0px 1px 2px rgba(0, 0, 0, 0.3));\n",
              "      fill: #FFFFFF;\n",
              "    }\n",
              "  </style>\n",
              "\n",
              "    <script>\n",
              "      const buttonEl =\n",
              "        document.querySelector('#df-91981be0-f5cd-4245-a49c-aba5b1ede4d1 button.colab-df-convert');\n",
              "      buttonEl.style.display =\n",
              "        google.colab.kernel.accessAllowed ? 'block' : 'none';\n",
              "\n",
              "      async function convertToInteractive(key) {\n",
              "        const element = document.querySelector('#df-91981be0-f5cd-4245-a49c-aba5b1ede4d1');\n",
              "        const dataTable =\n",
              "          await google.colab.kernel.invokeFunction('convertToInteractive',\n",
              "                                                    [key], {});\n",
              "        if (!dataTable) return;\n",
              "\n",
              "        const docLinkHtml = 'Like what you see? Visit the ' +\n",
              "          '<a target=\"_blank\" href=https://colab.research.google.com/notebooks/data_table.ipynb>data table notebook</a>'\n",
              "          + ' to learn more about interactive tables.';\n",
              "        element.innerHTML = '';\n",
              "        dataTable['output_type'] = 'display_data';\n",
              "        await google.colab.output.renderOutput(dataTable, element);\n",
              "        const docLink = document.createElement('div');\n",
              "        docLink.innerHTML = docLinkHtml;\n",
              "        element.appendChild(docLink);\n",
              "      }\n",
              "    </script>\n",
              "  </div>\n",
              "\n",
              "\n",
              "<div id=\"df-fbbbd9be-2d66-4108-ab8c-c0c67ba7d833\">\n",
              "  <button class=\"colab-df-quickchart\" onclick=\"quickchart('df-fbbbd9be-2d66-4108-ab8c-c0c67ba7d833')\"\n",
              "            title=\"Suggest charts\"\n",
              "            style=\"display:none;\">\n",
              "\n",
              "<svg xmlns=\"http://www.w3.org/2000/svg\" height=\"24px\"viewBox=\"0 0 24 24\"\n",
              "     width=\"24px\">\n",
              "    <g>\n",
              "        <path d=\"M19 3H5c-1.1 0-2 .9-2 2v14c0 1.1.9 2 2 2h14c1.1 0 2-.9 2-2V5c0-1.1-.9-2-2-2zM9 17H7v-7h2v7zm4 0h-2V7h2v10zm4 0h-2v-4h2v4z\"/>\n",
              "    </g>\n",
              "</svg>\n",
              "  </button>\n",
              "\n",
              "<style>\n",
              "  .colab-df-quickchart {\n",
              "      --bg-color: #E8F0FE;\n",
              "      --fill-color: #1967D2;\n",
              "      --hover-bg-color: #E2EBFA;\n",
              "      --hover-fill-color: #174EA6;\n",
              "      --disabled-fill-color: #AAA;\n",
              "      --disabled-bg-color: #DDD;\n",
              "  }\n",
              "\n",
              "  [theme=dark] .colab-df-quickchart {\n",
              "      --bg-color: #3B4455;\n",
              "      --fill-color: #D2E3FC;\n",
              "      --hover-bg-color: #434B5C;\n",
              "      --hover-fill-color: #FFFFFF;\n",
              "      --disabled-bg-color: #3B4455;\n",
              "      --disabled-fill-color: #666;\n",
              "  }\n",
              "\n",
              "  .colab-df-quickchart {\n",
              "    background-color: var(--bg-color);\n",
              "    border: none;\n",
              "    border-radius: 50%;\n",
              "    cursor: pointer;\n",
              "    display: none;\n",
              "    fill: var(--fill-color);\n",
              "    height: 32px;\n",
              "    padding: 0;\n",
              "    width: 32px;\n",
              "  }\n",
              "\n",
              "  .colab-df-quickchart:hover {\n",
              "    background-color: var(--hover-bg-color);\n",
              "    box-shadow: 0 1px 2px rgba(60, 64, 67, 0.3), 0 1px 3px 1px rgba(60, 64, 67, 0.15);\n",
              "    fill: var(--button-hover-fill-color);\n",
              "  }\n",
              "\n",
              "  .colab-df-quickchart-complete:disabled,\n",
              "  .colab-df-quickchart-complete:disabled:hover {\n",
              "    background-color: var(--disabled-bg-color);\n",
              "    fill: var(--disabled-fill-color);\n",
              "    box-shadow: none;\n",
              "  }\n",
              "\n",
              "  .colab-df-spinner {\n",
              "    border: 2px solid var(--fill-color);\n",
              "    border-color: transparent;\n",
              "    border-bottom-color: var(--fill-color);\n",
              "    animation:\n",
              "      spin 1s steps(1) infinite;\n",
              "  }\n",
              "\n",
              "  @keyframes spin {\n",
              "    0% {\n",
              "      border-color: transparent;\n",
              "      border-bottom-color: var(--fill-color);\n",
              "      border-left-color: var(--fill-color);\n",
              "    }\n",
              "    20% {\n",
              "      border-color: transparent;\n",
              "      border-left-color: var(--fill-color);\n",
              "      border-top-color: var(--fill-color);\n",
              "    }\n",
              "    30% {\n",
              "      border-color: transparent;\n",
              "      border-left-color: var(--fill-color);\n",
              "      border-top-color: var(--fill-color);\n",
              "      border-right-color: var(--fill-color);\n",
              "    }\n",
              "    40% {\n",
              "      border-color: transparent;\n",
              "      border-right-color: var(--fill-color);\n",
              "      border-top-color: var(--fill-color);\n",
              "    }\n",
              "    60% {\n",
              "      border-color: transparent;\n",
              "      border-right-color: var(--fill-color);\n",
              "    }\n",
              "    80% {\n",
              "      border-color: transparent;\n",
              "      border-right-color: var(--fill-color);\n",
              "      border-bottom-color: var(--fill-color);\n",
              "    }\n",
              "    90% {\n",
              "      border-color: transparent;\n",
              "      border-bottom-color: var(--fill-color);\n",
              "    }\n",
              "  }\n",
              "</style>\n",
              "\n",
              "  <script>\n",
              "    async function quickchart(key) {\n",
              "      const quickchartButtonEl =\n",
              "        document.querySelector('#' + key + ' button');\n",
              "      quickchartButtonEl.disabled = true;  // To prevent multiple clicks.\n",
              "      quickchartButtonEl.classList.add('colab-df-spinner');\n",
              "      try {\n",
              "        const charts = await google.colab.kernel.invokeFunction(\n",
              "            'suggestCharts', [key], {});\n",
              "      } catch (error) {\n",
              "        console.error('Error during call to suggestCharts:', error);\n",
              "      }\n",
              "      quickchartButtonEl.classList.remove('colab-df-spinner');\n",
              "      quickchartButtonEl.classList.add('colab-df-quickchart-complete');\n",
              "    }\n",
              "    (() => {\n",
              "      let quickchartButtonEl =\n",
              "        document.querySelector('#df-fbbbd9be-2d66-4108-ab8c-c0c67ba7d833 button');\n",
              "      quickchartButtonEl.style.display =\n",
              "        google.colab.kernel.accessAllowed ? 'block' : 'none';\n",
              "    })();\n",
              "  </script>\n",
              "</div>\n",
              "\n",
              "  <div id=\"id_000cb861-7cd6-4889-bb2c-3e3a5a29f7b0\">\n",
              "    <style>\n",
              "      .colab-df-generate {\n",
              "        background-color: #E8F0FE;\n",
              "        border: none;\n",
              "        border-radius: 50%;\n",
              "        cursor: pointer;\n",
              "        display: none;\n",
              "        fill: #1967D2;\n",
              "        height: 32px;\n",
              "        padding: 0 0 0 0;\n",
              "        width: 32px;\n",
              "      }\n",
              "\n",
              "      .colab-df-generate:hover {\n",
              "        background-color: #E2EBFA;\n",
              "        box-shadow: 0px 1px 2px rgba(60, 64, 67, 0.3), 0px 1px 3px 1px rgba(60, 64, 67, 0.15);\n",
              "        fill: #174EA6;\n",
              "      }\n",
              "\n",
              "      [theme=dark] .colab-df-generate {\n",
              "        background-color: #3B4455;\n",
              "        fill: #D2E3FC;\n",
              "      }\n",
              "\n",
              "      [theme=dark] .colab-df-generate:hover {\n",
              "        background-color: #434B5C;\n",
              "        box-shadow: 0px 1px 3px 1px rgba(0, 0, 0, 0.15);\n",
              "        filter: drop-shadow(0px 1px 2px rgba(0, 0, 0, 0.3));\n",
              "        fill: #FFFFFF;\n",
              "      }\n",
              "    </style>\n",
              "    <button class=\"colab-df-generate\" onclick=\"generateWithVariable('base')\"\n",
              "            title=\"Generate code using this dataframe.\"\n",
              "            style=\"display:none;\">\n",
              "\n",
              "  <svg xmlns=\"http://www.w3.org/2000/svg\" height=\"24px\"viewBox=\"0 0 24 24\"\n",
              "       width=\"24px\">\n",
              "    <path d=\"M7,19H8.4L18.45,9,17,7.55,7,17.6ZM5,21V16.75L18.45,3.32a2,2,0,0,1,2.83,0l1.4,1.43a1.91,1.91,0,0,1,.58,1.4,1.91,1.91,0,0,1-.58,1.4L9.25,21ZM18.45,9,17,7.55Zm-12,3A5.31,5.31,0,0,0,4.9,8.1,5.31,5.31,0,0,0,1,6.5,5.31,5.31,0,0,0,4.9,4.9,5.31,5.31,0,0,0,6.5,1,5.31,5.31,0,0,0,8.1,4.9,5.31,5.31,0,0,0,12,6.5,5.46,5.46,0,0,0,6.5,12Z\"/>\n",
              "  </svg>\n",
              "    </button>\n",
              "    <script>\n",
              "      (() => {\n",
              "      const buttonEl =\n",
              "        document.querySelector('#id_000cb861-7cd6-4889-bb2c-3e3a5a29f7b0 button.colab-df-generate');\n",
              "      buttonEl.style.display =\n",
              "        google.colab.kernel.accessAllowed ? 'block' : 'none';\n",
              "\n",
              "      buttonEl.onclick = () => {\n",
              "        google.colab.notebook.generateWithVariable('base');\n",
              "      }\n",
              "      })();\n",
              "    </script>\n",
              "  </div>\n",
              "\n",
              "    </div>\n",
              "  </div>\n"
            ],
            "application/vnd.google.colaboratory.intrinsic+json": {
              "type": "dataframe",
              "variable_name": "base",
              "summary": "{\n  \"name\": \"base\",\n  \"rows\": 963,\n  \"fields\": [\n    {\n      \"column\": \"age\",\n      \"properties\": {\n        \"dtype\": \"number\",\n        \"std\": 12,\n        \"min\": 19,\n        \"max\": 60,\n        \"num_unique_values\": 42,\n        \"samples\": [\n          21,\n          53,\n          34\n        ],\n        \"semantic_type\": \"\",\n        \"description\": \"\"\n      }\n    },\n    {\n      \"column\": \"gender\",\n      \"properties\": {\n        \"dtype\": \"number\",\n        \"std\": 0,\n        \"min\": 0,\n        \"max\": 1,\n        \"num_unique_values\": 2,\n        \"samples\": [\n          1,\n          0\n        ],\n        \"semantic_type\": \"\",\n        \"description\": \"\"\n      }\n    },\n    {\n      \"column\": \"miles\",\n      \"properties\": {\n        \"dtype\": \"number\",\n        \"std\": 13,\n        \"min\": 10,\n        \"max\": 97,\n        \"num_unique_values\": 65,\n        \"samples\": [\n          37,\n          72\n        ],\n        \"semantic_type\": \"\",\n        \"description\": \"\"\n      }\n    },\n    {\n      \"column\": \"debt\",\n      \"properties\": {\n        \"dtype\": \"number\",\n        \"std\": 18273,\n        \"min\": 0,\n        \"max\": 59770,\n        \"num_unique_values\": 855,\n        \"samples\": [\n          5313,\n          4081\n        ],\n        \"semantic_type\": \"\",\n        \"description\": \"\"\n      }\n    },\n    {\n      \"column\": \"income\",\n      \"properties\": {\n        \"dtype\": \"number\",\n        \"std\": 3260,\n        \"min\": 0,\n        \"max\": 11970,\n        \"num_unique_values\": 887,\n        \"samples\": [\n          8140,\n          8286\n        ],\n        \"semantic_type\": \"\",\n        \"description\": \"\"\n      }\n    },\n    {\n      \"column\": \"sales\",\n      \"properties\": {\n        \"dtype\": \"number\",\n        \"std\": 8986,\n        \"min\": 500,\n        \"max\": 29926,\n        \"num_unique_values\": 932,\n        \"samples\": [\n          2606,\n          648\n        ],\n        \"semantic_type\": \"\",\n        \"description\": \"\"\n      }\n    }\n  ]\n}"
            }
          },
          "metadata": {},
          "execution_count": 3
        }
      ]
    },
    {
      "cell_type": "code",
      "source": [
        "#verificar se há valores faltantes nos dados\n",
        "base.isnull().sum()"
      ],
      "metadata": {
        "colab": {
          "base_uri": "https://localhost:8080/"
        },
        "id": "rErf8mOA-2qO",
        "outputId": "c6049212-5abb-435a-cb77-60035db2d58d"
      },
      "execution_count": null,
      "outputs": [
        {
          "output_type": "execute_result",
          "data": {
            "text/plain": [
              "age       0\n",
              "gender    0\n",
              "miles     0\n",
              "debt      0\n",
              "income    0\n",
              "sales     0\n",
              "dtype: int64"
            ]
          },
          "metadata": {},
          "execution_count": 4
        }
      ]
    },
    {
      "cell_type": "code",
      "source": [
        "# x»dívida=variável independente; y»variável dependente=idade\n",
        "x = base.iloc[:, 3].values\n",
        "x = x.reshape(-1, 1)\n",
        "y = base.iloc[:, 0].values"
      ],
      "metadata": {
        "id": "o3u2Xb0bBfy4"
      },
      "execution_count": null,
      "outputs": []
    },
    {
      "cell_type": "code",
      "source": [
        "#Verificar a correlação entre as variáveis: dá erro por causa reshape, aqui é neces.valores originais\n",
        "correlacao = np.corrcoef(x, y)\n",
        "correlacao"
      ],
      "metadata": {
        "colab": {
          "base_uri": "https://localhost:8080/",
          "height": 356
        },
        "id": "ADYxHn19MHfs",
        "outputId": "a4105e12-fcc9-4ab1-8f27-c73be9dbc239"
      },
      "execution_count": null,
      "outputs": [
        {
          "output_type": "error",
          "ename": "ValueError",
          "evalue": "all the input array dimensions except for the concatenation axis must match exactly, but along dimension 1, the array at index 0 has size 1 and the array at index 1 has size 963",
          "traceback": [
            "\u001b[0;31m---------------------------------------------------------------------------\u001b[0m",
            "\u001b[0;31mValueError\u001b[0m                                Traceback (most recent call last)",
            "\u001b[0;32m<ipython-input-20-46a80e93da28>\u001b[0m in \u001b[0;36m<cell line: 2>\u001b[0;34m()\u001b[0m\n\u001b[1;32m      1\u001b[0m \u001b[0;31m#Verificar a correlação entre as variáveis:\u001b[0m\u001b[0;34m\u001b[0m\u001b[0;34m\u001b[0m\u001b[0m\n\u001b[0;32m----> 2\u001b[0;31m \u001b[0mcorrelacao\u001b[0m \u001b[0;34m=\u001b[0m \u001b[0mnp\u001b[0m\u001b[0;34m.\u001b[0m\u001b[0mcorrcoef\u001b[0m\u001b[0;34m(\u001b[0m\u001b[0mx\u001b[0m\u001b[0;34m,\u001b[0m \u001b[0my\u001b[0m\u001b[0;34m)\u001b[0m\u001b[0;34m\u001b[0m\u001b[0;34m\u001b[0m\u001b[0m\n\u001b[0m\u001b[1;32m      3\u001b[0m \u001b[0mcorrelacao\u001b[0m\u001b[0;34m\u001b[0m\u001b[0;34m\u001b[0m\u001b[0m\n",
            "\u001b[0;32m/usr/local/lib/python3.10/dist-packages/numpy/lib/function_base.py\u001b[0m in \u001b[0;36mcorrcoef\u001b[0;34m(x, y, rowvar, bias, ddof, dtype)\u001b[0m\n\u001b[1;32m   2887\u001b[0m         warnings.warn('bias and ddof have no effect and are deprecated',\n\u001b[1;32m   2888\u001b[0m                       DeprecationWarning, stacklevel=2)\n\u001b[0;32m-> 2889\u001b[0;31m     \u001b[0mc\u001b[0m \u001b[0;34m=\u001b[0m \u001b[0mcov\u001b[0m\u001b[0;34m(\u001b[0m\u001b[0mx\u001b[0m\u001b[0;34m,\u001b[0m \u001b[0my\u001b[0m\u001b[0;34m,\u001b[0m \u001b[0mrowvar\u001b[0m\u001b[0;34m,\u001b[0m \u001b[0mdtype\u001b[0m\u001b[0;34m=\u001b[0m\u001b[0mdtype\u001b[0m\u001b[0;34m)\u001b[0m\u001b[0;34m\u001b[0m\u001b[0;34m\u001b[0m\u001b[0m\n\u001b[0m\u001b[1;32m   2890\u001b[0m     \u001b[0;32mtry\u001b[0m\u001b[0;34m:\u001b[0m\u001b[0;34m\u001b[0m\u001b[0;34m\u001b[0m\u001b[0m\n\u001b[1;32m   2891\u001b[0m         \u001b[0md\u001b[0m \u001b[0;34m=\u001b[0m \u001b[0mdiag\u001b[0m\u001b[0;34m(\u001b[0m\u001b[0mc\u001b[0m\u001b[0;34m)\u001b[0m\u001b[0;34m\u001b[0m\u001b[0;34m\u001b[0m\u001b[0m\n",
            "\u001b[0;32m/usr/local/lib/python3.10/dist-packages/numpy/lib/function_base.py\u001b[0m in \u001b[0;36mcov\u001b[0;34m(m, y, rowvar, bias, ddof, fweights, aweights, dtype)\u001b[0m\n\u001b[1;32m   2681\u001b[0m         \u001b[0;32mif\u001b[0m \u001b[0;32mnot\u001b[0m \u001b[0mrowvar\u001b[0m \u001b[0;32mand\u001b[0m \u001b[0my\u001b[0m\u001b[0;34m.\u001b[0m\u001b[0mshape\u001b[0m\u001b[0;34m[\u001b[0m\u001b[0;36m0\u001b[0m\u001b[0;34m]\u001b[0m \u001b[0;34m!=\u001b[0m \u001b[0;36m1\u001b[0m\u001b[0;34m:\u001b[0m\u001b[0;34m\u001b[0m\u001b[0;34m\u001b[0m\u001b[0m\n\u001b[1;32m   2682\u001b[0m             \u001b[0my\u001b[0m \u001b[0;34m=\u001b[0m \u001b[0my\u001b[0m\u001b[0;34m.\u001b[0m\u001b[0mT\u001b[0m\u001b[0;34m\u001b[0m\u001b[0;34m\u001b[0m\u001b[0m\n\u001b[0;32m-> 2683\u001b[0;31m         \u001b[0mX\u001b[0m \u001b[0;34m=\u001b[0m \u001b[0mnp\u001b[0m\u001b[0;34m.\u001b[0m\u001b[0mconcatenate\u001b[0m\u001b[0;34m(\u001b[0m\u001b[0;34m(\u001b[0m\u001b[0mX\u001b[0m\u001b[0;34m,\u001b[0m \u001b[0my\u001b[0m\u001b[0;34m)\u001b[0m\u001b[0;34m,\u001b[0m \u001b[0maxis\u001b[0m\u001b[0;34m=\u001b[0m\u001b[0;36m0\u001b[0m\u001b[0;34m)\u001b[0m\u001b[0;34m\u001b[0m\u001b[0;34m\u001b[0m\u001b[0m\n\u001b[0m\u001b[1;32m   2684\u001b[0m \u001b[0;34m\u001b[0m\u001b[0m\n\u001b[1;32m   2685\u001b[0m     \u001b[0;32mif\u001b[0m \u001b[0mddof\u001b[0m \u001b[0;32mis\u001b[0m \u001b[0;32mNone\u001b[0m\u001b[0;34m:\u001b[0m\u001b[0;34m\u001b[0m\u001b[0;34m\u001b[0m\u001b[0m\n",
            "\u001b[0;31mValueError\u001b[0m: all the input array dimensions except for the concatenation axis must match exactly, but along dimension 1, the array at index 0 has size 1 and the array at index 1 has size 963"
          ]
        }
      ]
    },
    {
      "cell_type": "code",
      "source": [
        "#Objetivo é prever as dívidas pela idade. Aqui começamos com o treinamento\n",
        "#se der erro, fazer reshape da variável x\n",
        "modelo = LinearRegression()\n",
        "modelo.fit(x, y)"
      ],
      "metadata": {
        "colab": {
          "base_uri": "https://localhost:8080/",
          "height": 75
        },
        "id": "B-0AN1BREh8Y",
        "outputId": "76399601-a020-44db-a593-395c602c0604"
      },
      "execution_count": null,
      "outputs": [
        {
          "output_type": "execute_result",
          "data": {
            "text/plain": [
              "LinearRegression()"
            ],
            "text/html": [
              "<style>#sk-container-id-2 {color: black;background-color: white;}#sk-container-id-2 pre{padding: 0;}#sk-container-id-2 div.sk-toggleable {background-color: white;}#sk-container-id-2 label.sk-toggleable__label {cursor: pointer;display: block;width: 100%;margin-bottom: 0;padding: 0.3em;box-sizing: border-box;text-align: center;}#sk-container-id-2 label.sk-toggleable__label-arrow:before {content: \"▸\";float: left;margin-right: 0.25em;color: #696969;}#sk-container-id-2 label.sk-toggleable__label-arrow:hover:before {color: black;}#sk-container-id-2 div.sk-estimator:hover label.sk-toggleable__label-arrow:before {color: black;}#sk-container-id-2 div.sk-toggleable__content {max-height: 0;max-width: 0;overflow: hidden;text-align: left;background-color: #f0f8ff;}#sk-container-id-2 div.sk-toggleable__content pre {margin: 0.2em;color: black;border-radius: 0.25em;background-color: #f0f8ff;}#sk-container-id-2 input.sk-toggleable__control:checked~div.sk-toggleable__content {max-height: 200px;max-width: 100%;overflow: auto;}#sk-container-id-2 input.sk-toggleable__control:checked~label.sk-toggleable__label-arrow:before {content: \"▾\";}#sk-container-id-2 div.sk-estimator input.sk-toggleable__control:checked~label.sk-toggleable__label {background-color: #d4ebff;}#sk-container-id-2 div.sk-label input.sk-toggleable__control:checked~label.sk-toggleable__label {background-color: #d4ebff;}#sk-container-id-2 input.sk-hidden--visually {border: 0;clip: rect(1px 1px 1px 1px);clip: rect(1px, 1px, 1px, 1px);height: 1px;margin: -1px;overflow: hidden;padding: 0;position: absolute;width: 1px;}#sk-container-id-2 div.sk-estimator {font-family: monospace;background-color: #f0f8ff;border: 1px dotted black;border-radius: 0.25em;box-sizing: border-box;margin-bottom: 0.5em;}#sk-container-id-2 div.sk-estimator:hover {background-color: #d4ebff;}#sk-container-id-2 div.sk-parallel-item::after {content: \"\";width: 100%;border-bottom: 1px solid gray;flex-grow: 1;}#sk-container-id-2 div.sk-label:hover label.sk-toggleable__label {background-color: #d4ebff;}#sk-container-id-2 div.sk-serial::before {content: \"\";position: absolute;border-left: 1px solid gray;box-sizing: border-box;top: 0;bottom: 0;left: 50%;z-index: 0;}#sk-container-id-2 div.sk-serial {display: flex;flex-direction: column;align-items: center;background-color: white;padding-right: 0.2em;padding-left: 0.2em;position: relative;}#sk-container-id-2 div.sk-item {position: relative;z-index: 1;}#sk-container-id-2 div.sk-parallel {display: flex;align-items: stretch;justify-content: center;background-color: white;position: relative;}#sk-container-id-2 div.sk-item::before, #sk-container-id-2 div.sk-parallel-item::before {content: \"\";position: absolute;border-left: 1px solid gray;box-sizing: border-box;top: 0;bottom: 0;left: 50%;z-index: -1;}#sk-container-id-2 div.sk-parallel-item {display: flex;flex-direction: column;z-index: 1;position: relative;background-color: white;}#sk-container-id-2 div.sk-parallel-item:first-child::after {align-self: flex-end;width: 50%;}#sk-container-id-2 div.sk-parallel-item:last-child::after {align-self: flex-start;width: 50%;}#sk-container-id-2 div.sk-parallel-item:only-child::after {width: 0;}#sk-container-id-2 div.sk-dashed-wrapped {border: 1px dashed gray;margin: 0 0.4em 0.5em 0.4em;box-sizing: border-box;padding-bottom: 0.4em;background-color: white;}#sk-container-id-2 div.sk-label label {font-family: monospace;font-weight: bold;display: inline-block;line-height: 1.2em;}#sk-container-id-2 div.sk-label-container {text-align: center;}#sk-container-id-2 div.sk-container {/* jupyter's `normalize.less` sets `[hidden] { display: none; }` but bootstrap.min.css set `[hidden] { display: none !important; }` so we also need the `!important` here to be able to override the default hidden behavior on the sphinx rendered scikit-learn.org. See: https://github.com/scikit-learn/scikit-learn/issues/21755 */display: inline-block !important;position: relative;}#sk-container-id-2 div.sk-text-repr-fallback {display: none;}</style><div id=\"sk-container-id-2\" class=\"sk-top-container\"><div class=\"sk-text-repr-fallback\"><pre>LinearRegression()</pre><b>In a Jupyter environment, please rerun this cell to show the HTML representation or trust the notebook. <br />On GitHub, the HTML representation is unable to render, please try loading this page with nbviewer.org.</b></div><div class=\"sk-container\" hidden><div class=\"sk-item\"><div class=\"sk-estimator sk-toggleable\"><input class=\"sk-toggleable__control sk-hidden--visually\" id=\"sk-estimator-id-2\" type=\"checkbox\" checked><label for=\"sk-estimator-id-2\" class=\"sk-toggleable__label sk-toggleable__label-arrow\">LinearRegression</label><div class=\"sk-toggleable__content\"><pre>LinearRegression()</pre></div></div></div></div></div>"
            ]
          },
          "metadata": {},
          "execution_count": 21
        }
      ]
    },
    {
      "cell_type": "code",
      "source": [
        "#visualizar modelo de interceptação e a inclinação\n",
        "modelo.intercept_"
      ],
      "metadata": {
        "colab": {
          "base_uri": "https://localhost:8080/"
        },
        "id": "spVNqls3PJtP",
        "outputId": "301f0031-de46-403c-87a4-abc165784858"
      },
      "execution_count": null,
      "outputs": [
        {
          "output_type": "execute_result",
          "data": {
            "text/plain": [
              "35.89471166387835"
            ]
          },
          "metadata": {},
          "execution_count": 22
        }
      ]
    },
    {
      "cell_type": "code",
      "source": [
        "#visualizar modelo de inclinação\n",
        "modelo.coef_"
      ],
      "metadata": {
        "colab": {
          "base_uri": "https://localhost:8080/"
        },
        "id": "8UoPU9FMPw1V",
        "outputId": "1f45325d-73be-4496-dec6-90865a2aec87"
      },
      "execution_count": null,
      "outputs": [
        {
          "output_type": "execute_result",
          "data": {
            "text/plain": [
              "array([0.00014723])"
            ]
          },
          "metadata": {},
          "execution_count": 23
        }
      ]
    },
    {
      "cell_type": "code",
      "source": [
        "#Gerarando o gráfico dos dados\n",
        "plt.scatter(x, y)"
      ],
      "metadata": {
        "colab": {
          "base_uri": "https://localhost:8080/",
          "height": 447
        },
        "id": "Jf-4KFh1QMDa",
        "outputId": "d97995c4-2692-4869-fd8d-0672aa3f8b00"
      },
      "execution_count": null,
      "outputs": [
        {
          "output_type": "execute_result",
          "data": {
            "text/plain": [
              "<matplotlib.collections.PathCollection at 0x7870eee213f0>"
            ]
          },
          "metadata": {},
          "execution_count": 24
        },
        {
          "output_type": "display_data",
          "data": {
            "text/plain": [
              "<Figure size 640x480 with 1 Axes>"
            ],
            "image/png": "[encoded data removed]"
          },
          "metadata": {}
        }
      ]
    },
    {
      "cell_type": "code",
      "source": [
        "#gerando o gráfico com a linha traçada(regressão linear)\n",
        "plt.scatter(x, y)\n",
        "plt.plot(x, modelo.predict(x), color = 'red')"
      ],
      "metadata": {
        "colab": {
          "base_uri": "https://localhost:8080/",
          "height": 447
        },
        "id": "LHp4RpupSQwq",
        "outputId": "0cad91f5-b26c-4c5e-980e-e104b81f2c4a"
      },
      "execution_count": null,
      "outputs": [
        {
          "output_type": "execute_result",
          "data": {
            "text/plain": [
              "[<matplotlib.lines.Line2D at 0x7870ea295120>]"
            ]
          },
          "metadata": {},
          "execution_count": 27
        },
        {
          "output_type": "display_data",
          "data": {
            "text/plain": [
              "<Figure size 640x480 with 1 Axes>"
            ],
            "image/png": "[encoded data removed]"
          },
          "metadata": {}
        }
      ]
    },
    {
      "cell_type": "code",
      "source": [
        "#fazendo a previsão\n",
        "modelo.intercept_ + modelo.coef_ * 33"
      ],
      "metadata": {
        "colab": {
          "base_uri": "https://localhost:8080/"
        },
        "id": "Jn7u8alfUBUm",
        "outputId": "cddf2b95-3e5e-422b-eacb-83bc83416b76"
      },
      "execution_count": null,
      "outputs": [
        {
          "output_type": "execute_result",
          "data": {
            "text/plain": [
              "array([35.89957021])"
            ]
          },
          "metadata": {},
          "execution_count": 30
        }
      ]
    },
    {
      "cell_type": "code",
      "source": [
        "#visualização dos resíduos/valores residuais. Se o R2 for >0.7 é ótimo; <0 / 0.3 é ruim\n",
        "from yellowbrick.regressor import ResidualsPlot"
      ],
      "metadata": {
        "id": "KxQqhfpcE5ZO"
      },
      "execution_count": null,
      "outputs": []
    },
    {
      "cell_type": "code",
      "source": [
        "visualizador = ResidualsPlot(modelo)\n",
        "visualizador.fit(x, y)\n",
        "visualizador.poof()"
      ],
      "metadata": {
        "colab": {
          "base_uri": "https://localhost:8080/",
          "height": 559
        },
        "id": "uIOJ5OavfMVS",
        "outputId": "b96f5a0f-b5c1-4659-8091-496ca2e65a63"
      },
      "execution_count": null,
      "outputs": [
        {
          "output_type": "display_data",
          "data": {
            "text/plain": [
              "<Figure size 800x550 with 2 Axes>"
            ],
            "image/png": "[encoded data removed]"
          },
          "metadata": {}
        },
        {
          "output_type": "execute_result",
          "data": {
            "text/plain": [
              "<Axes: title={'center': 'Residuals for LinearRegression Model'}, xlabel='Predicted Value', ylabel='Residuals'>"
            ]
          },
          "metadata": {},
          "execution_count": 33
        }
      ]
    },
    {
      "cell_type": "markdown",
      "source": [
        "# Distribuição de Poisson"
      ],
      "metadata": {
        "id": "ubaLuFdts7RI"
      }
    },
    {
      "cell_type": "code",
      "source": [
        "from scipy.stats import poisson"
      ],
      "metadata": {
        "id": "olMhC1Cgs9tz"
      },
      "execution_count": null,
      "outputs": []
    },
    {
      "cell_type": "code",
      "source": [
        "#A média de acidentes é de 2 por dia, qual a probabilidade de ocorrerem 3 acidentes no dia?\n",
        "poisson.pmf(3, 2)"
      ],
      "metadata": {
        "colab": {
          "base_uri": "https://localhost:8080/"
        },
        "id": "N9SbeTjftOtm",
        "outputId": "4e0a3347-4bee-40e2-d8a6-b5156b6cb448"
      },
      "execution_count": null,
      "outputs": [
        {
          "output_type": "execute_result",
          "data": {
            "text/plain": [
              "0.18044704431548356"
            ]
          },
          "metadata": {},
          "execution_count": 2
        }
      ]
    },
    {
      "cell_type": "code",
      "source": [
        "#Qual a probabilidade de ocorrerem 3 ou menos acidentes no dia?\n",
        "poisson.cdf(3, 2)"
      ],
      "metadata": {
        "colab": {
          "base_uri": "https://localhost:8080/"
        },
        "id": "w88VGJ-6t0qG",
        "outputId": "5b83a557-7287-4c15-8452-5cb1c20d997b"
      },
      "execution_count": null,
      "outputs": [
        {
          "output_type": "execute_result",
          "data": {
            "text/plain": [
              "0.857123460498547"
            ]
          },
          "metadata": {},
          "execution_count": 3
        }
      ]
    },
    {
      "cell_type": "code",
      "source": [
        "#Qual a probabilidade de ocorrerem mais de 3 acidentes no dia?\n",
        "poisson.sf(3, 2)"
      ],
      "metadata": {
        "colab": {
          "base_uri": "https://localhost:8080/"
        },
        "id": "bZ1LBJheuTxr",
        "outputId": "12e8317a-08f1-4016-927a-5283dda7608f"
      },
      "execution_count": null,
      "outputs": [
        {
          "output_type": "execute_result",
          "data": {
            "text/plain": [
              "0.14287653950145296"
            ]
          },
          "metadata": {},
          "execution_count": 4
        }
      ]
    },
    {
      "cell_type": "markdown",
      "source": [
        "# Qui quadrado"
      ],
      "metadata": {
        "id": "Imu5dNR2w6o4"
      }
    },
    {
      "cell_type": "code",
      "source": [
        "#Importando as bibliotecas\n",
        "import numpy as np\n",
        "from scipy.stats import chi2_contingency"
      ],
      "metadata": {
        "id": "sl9J7UAAxDkf"
      },
      "execution_count": null,
      "outputs": []
    },
    {
      "cell_type": "code",
      "source": [
        "novela = np.array([[19, 6], [43, 32]])"
      ],
      "metadata": {
        "id": "9OyvF8_0xRNO"
      },
      "execution_count": null,
      "outputs": []
    },
    {
      "cell_type": "code",
      "source": [
        "#O resultado é que o p-valor=0.1534, que é maior que o alfa de 0.5\n",
        "# significa que não podemos regeitar a H0, isto é, não há diferença significativa além do acaso\n",
        "chi2_contingency(novela)"
      ],
      "metadata": {
        "colab": {
          "base_uri": "https://localhost:8080/"
        },
        "id": "C5pe43iiydBF",
        "outputId": "4954c69f-ab7d-4bab-f14b-c15080eaf809"
      },
      "execution_count": null,
      "outputs": [
        {
          "output_type": "execute_result",
          "data": {
            "text/plain": [
              "Chi2ContingencyResult(statistic=2.037351443123939, pvalue=0.15347667161786666, dof=1, expected_freq=array([[15.5,  9.5],\n",
              "       [46.5, 28.5]]))"
            ]
          },
          "metadata": {},
          "execution_count": 11
        }
      ]
    }
  ]
}